{
 "cells": [
  {
   "cell_type": "markdown",
   "metadata": {},
   "source": [
    "# Recommender Systems - Introduction\n",
    "\n",
    "Today, recommender systems (RS) are all around us, directing (helping?) us to make our decisions on whether we buy that shirt, listen to Aerosmith or Coldplay or even suggesting past diseases diagnosis giving a patient's condition.\n",
    "\n",
    "The main factor that brought the due attention to this was probably the internet. Due to the flood of information we suffer today on media sources and advertisements, people have a lot of struggle to find, or even define, what they want. On the other hand, this amount of data allowed scientist to create plataforms who would analyse all of this and would try to bring only the necessary information that a user would like in a short span of time. This is only a basic, defition of a RS. We can dig a litlle deeper and evaluate other possible ways we can recommend itens to a person and we will end up with the main existing fields:\n",
    "\n",
    "* **Non-personalised and Stereotyped**: The most basic system. It doesn't evaluate other people's individual opinion, but use summary statistcs from the overall population.  \n",
    "* **Content Based**: Takes into consideration what a person likes and, given the characteristics of the existing itens, it recommends the most probable itens the user would like.  \n",
    "* **Collaborative**: Takes into consideration what a person likes and also what other similar people like. In this way, we can give recommendations as, as you and person P likes itens A,B and C, and person P have liked item D also, you could like item D as well. \n",
    "\n",
    "This first notebook is going to be about the first system, Non personalised and Stereotyped recommendations.\n",
    "\n",
    "<img src=https://cdn-images-1.medium.com/max/1600/1*Zvwzw_KPRv5bcXPkb6WubA.jpeg>"
   ]
  },
  {
   "cell_type": "markdown",
   "metadata": {},
   "source": [
    "# Non Personalised Recommendation\n",
    "\n",
    "The most basic way to provide recommendations is a non-personalised one. Non-personalised recommendations don't take user's individual preferences nor context into consideration. \n",
    "\n",
    "Take for instance a newly create client at Amazon. He wouldn't have bough any item on the marketplace, so Amazon doesn't know what the particular tastes of this new person are, so the best way to start with any possible recommendation that the new customer could like is what other clients, regardless of any their individual tastes, had also bought.  \n",
    "\n",
    "## Stereotyped Recommendation\n",
    "\n",
    "One little improvement we can make still on the domain of non-personalised recommendations is to do crude sterotype divisions on the metrics. Basic ratings per sex, city or economical status are some examples of categories in can easily create and can improve the recommendation quality if we believe there are really distinct products who are directed for each of these segments.\n",
    "\n",
    "<img src=http://www.reactiontools.com/wp-content/uploads/2015/08/keyboard-597107_1280-1.jpg width=\"400\">"
   ]
  },
  {
   "cell_type": "markdown",
   "metadata": {},
   "source": [
    "# Small data analysis\n",
    "In order to proper understand, let's work wih a table from [Coursera's Recommender System Course 1](https://drive.google.com/file/d/0BxANCLmMqAyIeDJlYWU0SG5YREE/view?usp=sharing) and take a look at one movie matrix and their respective user's ratings. Each row is a user and each column is a movie. Movies that a specific user didn't rate is shown as *Nan*."
   ]
  },
  {
   "cell_type": "code",
   "execution_count": 1,
   "metadata": {},
   "outputs": [],
   "source": [
    "import pandas as pd\n",
    "import numpy as np\n",
    "from scipy.stats import pearsonr"
   ]
  },
  {
   "cell_type": "code",
   "execution_count": 2,
   "metadata": {},
   "outputs": [
    {
     "name": "stdout",
     "output_type": "stream",
     "text": [
      "Nbr Rows/Users: 20 - Nbr Columns/Movies: 22\n"
     ]
    },
    {
     "data": {
      "text/html": [
       "<div>\n",
       "<style scoped>\n",
       "    .dataframe tbody tr th:only-of-type {\n",
       "        vertical-align: middle;\n",
       "    }\n",
       "\n",
       "    .dataframe tbody tr th {\n",
       "        vertical-align: top;\n",
       "    }\n",
       "\n",
       "    .dataframe thead th {\n",
       "        text-align: right;\n",
       "    }\n",
       "</style>\n",
       "<table border=\"1\" class=\"dataframe\">\n",
       "  <thead>\n",
       "    <tr style=\"text-align: right;\">\n",
       "      <th></th>\n",
       "      <th>User</th>\n",
       "      <th>Gender (1 =F, 0=M)</th>\n",
       "      <th>260: Star Wars: Episode IV - A New Hope (1977)</th>\n",
       "      <th>1210: Star Wars: Episode VI - Return of the Jedi (1983)</th>\n",
       "      <th>356: Forrest Gump (1994)</th>\n",
       "      <th>318: Shawshank Redemption, The (1994)</th>\n",
       "      <th>593: Silence of the Lambs, The (1991)</th>\n",
       "      <th>3578: Gladiator (2000)</th>\n",
       "      <th>1: Toy Story (1995)</th>\n",
       "      <th>2028: Saving Private Ryan (1998)</th>\n",
       "      <th>...</th>\n",
       "      <th>2396: Shakespeare in Love (1998)</th>\n",
       "      <th>2916: Total Recall (1990)</th>\n",
       "      <th>780: Independence Day (ID4) (1996)</th>\n",
       "      <th>541: Blade Runner (1982)</th>\n",
       "      <th>1265: Groundhog Day (1993)</th>\n",
       "      <th>2571: Matrix, The (1999)</th>\n",
       "      <th>527: Schindler's List (1993)</th>\n",
       "      <th>2762: Sixth Sense, The (1999)</th>\n",
       "      <th>1198: Raiders of the Lost Ark (1981)</th>\n",
       "      <th>34: Babe (1995)</th>\n",
       "    </tr>\n",
       "  </thead>\n",
       "  <tbody>\n",
       "    <tr>\n",
       "      <th>0</th>\n",
       "      <td>755</td>\n",
       "      <td>0</td>\n",
       "      <td>1.0</td>\n",
       "      <td>5.0</td>\n",
       "      <td>2.0</td>\n",
       "      <td>NaN</td>\n",
       "      <td>4.0</td>\n",
       "      <td>4.0</td>\n",
       "      <td>2.0</td>\n",
       "      <td>2.0</td>\n",
       "      <td>...</td>\n",
       "      <td>2.0</td>\n",
       "      <td>NaN</td>\n",
       "      <td>5.0</td>\n",
       "      <td>2.0</td>\n",
       "      <td>NaN</td>\n",
       "      <td>4.0</td>\n",
       "      <td>2.0</td>\n",
       "      <td>5.0</td>\n",
       "      <td>NaN</td>\n",
       "      <td>NaN</td>\n",
       "    </tr>\n",
       "    <tr>\n",
       "      <th>1</th>\n",
       "      <td>5277</td>\n",
       "      <td>0</td>\n",
       "      <td>5.0</td>\n",
       "      <td>3.0</td>\n",
       "      <td>NaN</td>\n",
       "      <td>2.0</td>\n",
       "      <td>4.0</td>\n",
       "      <td>2.0</td>\n",
       "      <td>1.0</td>\n",
       "      <td>NaN</td>\n",
       "      <td>...</td>\n",
       "      <td>3.0</td>\n",
       "      <td>2.0</td>\n",
       "      <td>2.0</td>\n",
       "      <td>NaN</td>\n",
       "      <td>2.0</td>\n",
       "      <td>NaN</td>\n",
       "      <td>5.0</td>\n",
       "      <td>1.0</td>\n",
       "      <td>3.0</td>\n",
       "      <td>NaN</td>\n",
       "    </tr>\n",
       "    <tr>\n",
       "      <th>2</th>\n",
       "      <td>1577</td>\n",
       "      <td>1</td>\n",
       "      <td>NaN</td>\n",
       "      <td>NaN</td>\n",
       "      <td>NaN</td>\n",
       "      <td>5.0</td>\n",
       "      <td>2.0</td>\n",
       "      <td>NaN</td>\n",
       "      <td>4.0</td>\n",
       "      <td>NaN</td>\n",
       "      <td>...</td>\n",
       "      <td>NaN</td>\n",
       "      <td>1.0</td>\n",
       "      <td>4.0</td>\n",
       "      <td>4.0</td>\n",
       "      <td>1.0</td>\n",
       "      <td>1.0</td>\n",
       "      <td>2.0</td>\n",
       "      <td>3.0</td>\n",
       "      <td>1.0</td>\n",
       "      <td>3.0</td>\n",
       "    </tr>\n",
       "    <tr>\n",
       "      <th>3</th>\n",
       "      <td>4388</td>\n",
       "      <td>0</td>\n",
       "      <td>NaN</td>\n",
       "      <td>3.0</td>\n",
       "      <td>NaN</td>\n",
       "      <td>NaN</td>\n",
       "      <td>NaN</td>\n",
       "      <td>1.0</td>\n",
       "      <td>2.0</td>\n",
       "      <td>3.0</td>\n",
       "      <td>...</td>\n",
       "      <td>NaN</td>\n",
       "      <td>4.0</td>\n",
       "      <td>1.0</td>\n",
       "      <td>3.0</td>\n",
       "      <td>5.0</td>\n",
       "      <td>NaN</td>\n",
       "      <td>5.0</td>\n",
       "      <td>1.0</td>\n",
       "      <td>1.0</td>\n",
       "      <td>2.0</td>\n",
       "    </tr>\n",
       "    <tr>\n",
       "      <th>4</th>\n",
       "      <td>1202</td>\n",
       "      <td>1</td>\n",
       "      <td>4.0</td>\n",
       "      <td>3.0</td>\n",
       "      <td>4.0</td>\n",
       "      <td>1.0</td>\n",
       "      <td>4.0</td>\n",
       "      <td>1.0</td>\n",
       "      <td>NaN</td>\n",
       "      <td>4.0</td>\n",
       "      <td>...</td>\n",
       "      <td>5.0</td>\n",
       "      <td>1.0</td>\n",
       "      <td>NaN</td>\n",
       "      <td>4.0</td>\n",
       "      <td>NaN</td>\n",
       "      <td>3.0</td>\n",
       "      <td>5.0</td>\n",
       "      <td>5.0</td>\n",
       "      <td>NaN</td>\n",
       "      <td>NaN</td>\n",
       "    </tr>\n",
       "  </tbody>\n",
       "</table>\n",
       "<p>5 rows × 22 columns</p>\n",
       "</div>"
      ],
      "text/plain": [
       "   User  Gender (1 =F, 0=M)  260: Star Wars: Episode IV - A New Hope (1977)  \\\n",
       "0   755                   0                                             1.0   \n",
       "1  5277                   0                                             5.0   \n",
       "2  1577                   1                                             NaN   \n",
       "3  4388                   0                                             NaN   \n",
       "4  1202                   1                                             4.0   \n",
       "\n",
       "   1210: Star Wars: Episode VI - Return of the Jedi (1983)  \\\n",
       "0                                                5.0         \n",
       "1                                                3.0         \n",
       "2                                                NaN         \n",
       "3                                                3.0         \n",
       "4                                                3.0         \n",
       "\n",
       "   356: Forrest Gump (1994)  318: Shawshank Redemption, The (1994)  \\\n",
       "0                       2.0                                    NaN   \n",
       "1                       NaN                                    2.0   \n",
       "2                       NaN                                    5.0   \n",
       "3                       NaN                                    NaN   \n",
       "4                       4.0                                    1.0   \n",
       "\n",
       "   593: Silence of the Lambs, The (1991)  3578: Gladiator (2000)  \\\n",
       "0                                    4.0                     4.0   \n",
       "1                                    4.0                     2.0   \n",
       "2                                    2.0                     NaN   \n",
       "3                                    NaN                     1.0   \n",
       "4                                    4.0                     1.0   \n",
       "\n",
       "   1: Toy Story (1995)  2028: Saving Private Ryan (1998)       ...         \\\n",
       "0                  2.0                               2.0       ...          \n",
       "1                  1.0                               NaN       ...          \n",
       "2                  4.0                               NaN       ...          \n",
       "3                  2.0                               3.0       ...          \n",
       "4                  NaN                               4.0       ...          \n",
       "\n",
       "   2396: Shakespeare in Love (1998)  2916: Total Recall (1990)  \\\n",
       "0                               2.0                        NaN   \n",
       "1                               3.0                        2.0   \n",
       "2                               NaN                        1.0   \n",
       "3                               NaN                        4.0   \n",
       "4                               5.0                        1.0   \n",
       "\n",
       "   780: Independence Day (ID4) (1996)  541: Blade Runner (1982)  \\\n",
       "0                                 5.0                       2.0   \n",
       "1                                 2.0                       NaN   \n",
       "2                                 4.0                       4.0   \n",
       "3                                 1.0                       3.0   \n",
       "4                                 NaN                       4.0   \n",
       "\n",
       "   1265: Groundhog Day (1993)  2571: Matrix, The (1999)  \\\n",
       "0                         NaN                       4.0   \n",
       "1                         2.0                       NaN   \n",
       "2                         1.0                       1.0   \n",
       "3                         5.0                       NaN   \n",
       "4                         NaN                       3.0   \n",
       "\n",
       "   527: Schindler's List (1993)  2762: Sixth Sense, The (1999)  \\\n",
       "0                           2.0                            5.0   \n",
       "1                           5.0                            1.0   \n",
       "2                           2.0                            3.0   \n",
       "3                           5.0                            1.0   \n",
       "4                           5.0                            5.0   \n",
       "\n",
       "   1198: Raiders of the Lost Ark (1981)  34: Babe (1995)  \n",
       "0                                   NaN              NaN  \n",
       "1                                   3.0              NaN  \n",
       "2                                   1.0              3.0  \n",
       "3                                   1.0              2.0  \n",
       "4                                   NaN              NaN  \n",
       "\n",
       "[5 rows x 22 columns]"
      ]
     },
     "execution_count": 2,
     "metadata": {},
     "output_type": "execute_result"
    }
   ],
   "source": [
    "reviews = pd.read_csv('non_personalised_stereotyped_rec.csv')\n",
    "print('Nbr Rows/Users: ' + str(reviews.shape[0]) + ' - Nbr Columns/Movies: ' + str(reviews.shape[1]))\n",
    "reviews.head()"
   ]
  },
  {
   "cell_type": "markdown",
   "metadata": {},
   "source": [
    "## Non Personalised Statistics\n",
    "\n",
    "In non-personalised and stereotyped statistics, we can take a look at look at:\n",
    "  \n",
    "* Mean Rating: In average, what was the mean value of ratings for that specific item?\n",
    "* Rating Count: How many people rated that item? - Popularity.\n",
    "* % Good Rating: Given a threshold, *e.g.* 4, what is the % of people whi gave a good rating for that item?\n",
    "* Association Rate: Given all people who rated an item A, what % of those also rated other item B? - Association.\n",
    "* Pearson Correlation: Given the rating a person gave to item A, does it correlates to a rating this same person gave to item B? - Correlation\n",
    "* Average Rating by Sex: Same as mean rating, but segmented by sex\n",
    "* % Good Rating by Sex: Same as % good rating, but segmented by sex.\n",
    "\n",
    "**Lets take a look at each of these statistics and see if they could provide some meaningful recommendations.**\n",
    "\n",
    "First, lets create a function that receives all the metrics, and return the index of the *n* best statistics:"
   ]
  },
  {
   "cell_type": "code",
   "execution_count": 3,
   "metadata": {},
   "outputs": [],
   "source": [
    "def return_best_n(statistics, n):\n",
    "    # statistics: array of size review.shape[1] containing one statistic calculated from the dataset\n",
    "    # n: number of indices to be returned\n",
    "    # returns: array of size *n* containing the indices of the best scored statistics\n",
    "    statistics = pd.DataFrame({'statistic':statistics})\n",
    "    return statistics.sort_values('statistic', ascending = False).iloc[:n]"
   ]
  },
  {
   "cell_type": "markdown",
   "metadata": {},
   "source": [
    "## Mean Rating\n",
    "\n",
    "This statistic is intuitive. People tend to review Shawshank Redemption with higher scores, **even though we don't know how many people rated it**"
   ]
  },
  {
   "cell_type": "code",
   "execution_count": 4,
   "metadata": {
    "scrolled": false
   },
   "outputs": [
    {
     "data": {
      "text/html": [
       "<div>\n",
       "<style scoped>\n",
       "    .dataframe tbody tr th:only-of-type {\n",
       "        vertical-align: middle;\n",
       "    }\n",
       "\n",
       "    .dataframe tbody tr th {\n",
       "        vertical-align: top;\n",
       "    }\n",
       "\n",
       "    .dataframe thead th {\n",
       "        text-align: right;\n",
       "    }\n",
       "</style>\n",
       "<table border=\"1\" class=\"dataframe\">\n",
       "  <thead>\n",
       "    <tr style=\"text-align: right;\">\n",
       "      <th></th>\n",
       "      <th>statistic</th>\n",
       "    </tr>\n",
       "  </thead>\n",
       "  <tbody>\n",
       "    <tr>\n",
       "      <th>318: Shawshank Redemption, The (1994)</th>\n",
       "      <td>3.600000</td>\n",
       "    </tr>\n",
       "    <tr>\n",
       "      <th>260: Star Wars: Episode IV - A New Hope (1977)</th>\n",
       "      <td>3.266667</td>\n",
       "    </tr>\n",
       "    <tr>\n",
       "      <th>541: Blade Runner (1982)</th>\n",
       "      <td>3.222222</td>\n",
       "    </tr>\n",
       "  </tbody>\n",
       "</table>\n",
       "</div>"
      ],
      "text/plain": [
       "                                                statistic\n",
       "318: Shawshank Redemption, The (1994)            3.600000\n",
       "260: Star Wars: Episode IV - A New Hope (1977)   3.266667\n",
       "541: Blade Runner (1982)                         3.222222"
      ]
     },
     "execution_count": 4,
     "metadata": {},
     "output_type": "execute_result"
    }
   ],
   "source": [
    "means = reviews.iloc[:,2:].apply(np.mean)\n",
    "return_best_n(means,3)"
   ]
  },
  {
   "cell_type": "markdown",
   "metadata": {},
   "source": [
    "## Rating Count\n",
    "\n",
    "Index of popularity, this shows that the movie people most evaluated was Toy Story 3. As an extra, can we have any input of popularity for the high rated movies above?"
   ]
  },
  {
   "cell_type": "code",
   "execution_count": 5,
   "metadata": {
    "scrolled": true
   },
   "outputs": [
    {
     "data": {
      "text/html": [
       "<div>\n",
       "<style scoped>\n",
       "    .dataframe tbody tr th:only-of-type {\n",
       "        vertical-align: middle;\n",
       "    }\n",
       "\n",
       "    .dataframe tbody tr th {\n",
       "        vertical-align: top;\n",
       "    }\n",
       "\n",
       "    .dataframe thead th {\n",
       "        text-align: right;\n",
       "    }\n",
       "</style>\n",
       "<table border=\"1\" class=\"dataframe\">\n",
       "  <thead>\n",
       "    <tr style=\"text-align: right;\">\n",
       "      <th></th>\n",
       "      <th>statistic</th>\n",
       "    </tr>\n",
       "  </thead>\n",
       "  <tbody>\n",
       "    <tr>\n",
       "      <th>1: Toy Story (1995)</th>\n",
       "      <td>17</td>\n",
       "    </tr>\n",
       "    <tr>\n",
       "      <th>593: Silence of the Lambs, The (1991)</th>\n",
       "      <td>16</td>\n",
       "    </tr>\n",
       "    <tr>\n",
       "      <th>260: Star Wars: Episode IV - A New Hope (1977)</th>\n",
       "      <td>15</td>\n",
       "    </tr>\n",
       "  </tbody>\n",
       "</table>\n",
       "</div>"
      ],
      "text/plain": [
       "                                                statistic\n",
       "1: Toy Story (1995)                                    17\n",
       "593: Silence of the Lambs, The (1991)                  16\n",
       "260: Star Wars: Episode IV - A New Hope (1977)         15"
      ]
     },
     "execution_count": 5,
     "metadata": {},
     "output_type": "execute_result"
    }
   ],
   "source": [
    "count = reviews.iloc[:,2:].apply(lambda col : np.sum(~np.isnan(col)))\n",
    "return_best_n(count,3)"
   ]
  },
  {
   "cell_type": "markdown",
   "metadata": {},
   "source": [
    "### Extra: Popularity Evaluation for high rated movies from 3.2\n",
    "\n",
    "Considering the size of our small database, the amount of ratings for the popular movies was on a decent amount, *i.e.*, there was't any movie with 1 or 2 ratings only."
   ]
  },
  {
   "cell_type": "code",
   "execution_count": 6,
   "metadata": {},
   "outputs": [
    {
     "data": {
      "text/plain": [
       "260: Star Wars: Episode IV - A New Hope (1977)    15\n",
       "318: Shawshank Redemption, The (1994)             10\n",
       "541: Blade Runner (1982)                           9\n",
       "dtype: int64"
      ]
     },
     "execution_count": 6,
     "metadata": {},
     "output_type": "execute_result"
    }
   ],
   "source": [
    "movies = ['318: Shawshank Redemption, The (1994)', \n",
    "          '260: Star Wars: Episode IV - A New Hope (1977)',\n",
    "         '541: Blade Runner (1982)']\n",
    "count.loc[count.index.isin(movies)]"
   ]
  },
  {
   "cell_type": "markdown",
   "metadata": {},
   "source": [
    "## % of Good Ratings (>= 4)\n",
    "\n",
    "We have two movies that were highly reviewed AND they appear as higher reviews as well. Shawshank Redemption seems to be the golden movie here until now :)"
   ]
  },
  {
   "cell_type": "code",
   "execution_count": 7,
   "metadata": {
    "scrolled": true
   },
   "outputs": [
    {
     "data": {
      "text/html": [
       "<div>\n",
       "<style scoped>\n",
       "    .dataframe tbody tr th:only-of-type {\n",
       "        vertical-align: middle;\n",
       "    }\n",
       "\n",
       "    .dataframe tbody tr th {\n",
       "        vertical-align: top;\n",
       "    }\n",
       "\n",
       "    .dataframe thead th {\n",
       "        text-align: right;\n",
       "    }\n",
       "</style>\n",
       "<table border=\"1\" class=\"dataframe\">\n",
       "  <thead>\n",
       "    <tr style=\"text-align: right;\">\n",
       "      <th></th>\n",
       "      <th>statistic</th>\n",
       "    </tr>\n",
       "  </thead>\n",
       "  <tbody>\n",
       "    <tr>\n",
       "      <th>318: Shawshank Redemption, The (1994)</th>\n",
       "      <td>0.700000</td>\n",
       "    </tr>\n",
       "    <tr>\n",
       "      <th>260: Star Wars: Episode IV - A New Hope (1977)</th>\n",
       "      <td>0.533333</td>\n",
       "    </tr>\n",
       "    <tr>\n",
       "      <th>3578: Gladiator (2000)</th>\n",
       "      <td>0.500000</td>\n",
       "    </tr>\n",
       "  </tbody>\n",
       "</table>\n",
       "</div>"
      ],
      "text/plain": [
       "                                                statistic\n",
       "318: Shawshank Redemption, The (1994)            0.700000\n",
       "260: Star Wars: Episode IV - A New Hope (1977)   0.533333\n",
       "3578: Gladiator (2000)                           0.500000"
      ]
     },
     "execution_count": 7,
     "metadata": {},
     "output_type": "execute_result"
    }
   ],
   "source": [
    "good_count = reviews.iloc[:,2:].apply(lambda col : np.sum(col >=  4)/np.sum(~np.isnan(col)))\n",
    "return_best_n(good_count,3)"
   ]
  },
  {
   "cell_type": "markdown",
   "metadata": {},
   "source": [
    "## Association Rate (in relation to Toy Story):\n",
    "\n",
    "In this context, the idea of the association rate is ask the question: \"**How likely a person who saw Movie M also ended up watching Toy Story?**\". This non-personalised metric can serve a great purpose on the famous \"**Because you watched M, here is N (Toy Story in this case)**.\"\n",
    "\n",
    "At the end of the function we just remove the first element, because of course Toy Story is the first place with association value of 1.\n",
    "\n",
    "So it seems in this database people who watch Star Wars also tend to watch Toy Story, weird"
   ]
  },
  {
   "cell_type": "code",
   "execution_count": 8,
   "metadata": {},
   "outputs": [
    {
     "data": {
      "text/html": [
       "<div>\n",
       "<style scoped>\n",
       "    .dataframe tbody tr th:only-of-type {\n",
       "        vertical-align: middle;\n",
       "    }\n",
       "\n",
       "    .dataframe tbody tr th {\n",
       "        vertical-align: top;\n",
       "    }\n",
       "\n",
       "    .dataframe thead th {\n",
       "        text-align: right;\n",
       "    }\n",
       "</style>\n",
       "<table border=\"1\" class=\"dataframe\">\n",
       "  <thead>\n",
       "    <tr style=\"text-align: right;\">\n",
       "      <th></th>\n",
       "      <th>statistic</th>\n",
       "    </tr>\n",
       "  </thead>\n",
       "  <tbody>\n",
       "    <tr>\n",
       "      <th>260: Star Wars: Episode IV - A New Hope (1977)</th>\n",
       "      <td>0.823529</td>\n",
       "    </tr>\n",
       "    <tr>\n",
       "      <th>593: Silence of the Lambs, The (1991)</th>\n",
       "      <td>0.764706</td>\n",
       "    </tr>\n",
       "    <tr>\n",
       "      <th>1210: Star Wars: Episode VI - Return of the Jedi (1983)</th>\n",
       "      <td>0.764706</td>\n",
       "    </tr>\n",
       "  </tbody>\n",
       "</table>\n",
       "</div>"
      ],
      "text/plain": [
       "                                                    statistic\n",
       "260: Star Wars: Episode IV - A New Hope (1977)       0.823529\n",
       "593: Silence of the Lambs, The (1991)                0.764706\n",
       "1210: Star Wars: Episode VI - Return of the Jed...   0.764706"
      ]
     },
     "execution_count": 8,
     "metadata": {},
     "output_type": "execute_result"
    }
   ],
   "source": [
    "def coocurrenceWithToyStory(col, toyStoryRatings):\n",
    "    x = np.sum((~np.isnan(col)) & (~np.isnan(toyStoryRatings)))/np.sum(~np.isnan(toyStoryRatings))\n",
    "    return x\n",
    "\n",
    "toyStoryCol = reviews['1: Toy Story (1995)']\n",
    "\n",
    "coocurenceToyStory = reviews.iloc[:,2:].apply(lambda col : coocurrenceWithToyStory(col, toyStoryCol))\n",
    "return_best_n(coocurenceToyStory,4)[1:4]"
   ]
  },
  {
   "cell_type": "markdown",
   "metadata": {},
   "source": [
    "## Pearson Correlation:\n",
    "\n",
    "The correlation analysis evaluate if the amount of ratings a person gives to one of the movies can provide good hints on what could be the rating on ToyStory **and** the other way around (what Toy Story ratings can indicate on what is going to be the rating on the others movies).\n",
    "\n",
    "The correlation close to 1 on Shawshank Redemption indicate that people tend to give almost the same rankings they give to Toy Story. A good recommendation for that is \"Because you **liked** X you might want to see Y\""
   ]
  },
  {
   "cell_type": "code",
   "execution_count": 9,
   "metadata": {},
   "outputs": [
    {
     "data": {
      "text/html": [
       "<div>\n",
       "<style scoped>\n",
       "    .dataframe tbody tr th:only-of-type {\n",
       "        vertical-align: middle;\n",
       "    }\n",
       "\n",
       "    .dataframe tbody tr th {\n",
       "        vertical-align: top;\n",
       "    }\n",
       "\n",
       "    .dataframe thead th {\n",
       "        text-align: right;\n",
       "    }\n",
       "</style>\n",
       "<table border=\"1\" class=\"dataframe\">\n",
       "  <thead>\n",
       "    <tr style=\"text-align: right;\">\n",
       "      <th></th>\n",
       "      <th>statistic</th>\n",
       "    </tr>\n",
       "  </thead>\n",
       "  <tbody>\n",
       "    <tr>\n",
       "      <th>318: Shawshank Redemption, The (1994)</th>\n",
       "      <td>0.888523</td>\n",
       "    </tr>\n",
       "    <tr>\n",
       "      <th>34: Babe (1995)</th>\n",
       "      <td>0.811107</td>\n",
       "    </tr>\n",
       "    <tr>\n",
       "      <th>296: Pulp Fiction (1994)</th>\n",
       "      <td>0.709842</td>\n",
       "    </tr>\n",
       "  </tbody>\n",
       "</table>\n",
       "</div>"
      ],
      "text/plain": [
       "                                       statistic\n",
       "318: Shawshank Redemption, The (1994)   0.888523\n",
       "34: Babe (1995)                         0.811107\n",
       "296: Pulp Fiction (1994)                0.709842"
      ]
     },
     "execution_count": 9,
     "metadata": {},
     "output_type": "execute_result"
    }
   ],
   "source": [
    "def pearson(col, toyStory):\n",
    "    validRows = np.logical_and(~np.isnan(col),~np.isnan(toyStory))\n",
    "    return pearsonr(col[validRows], toyStory[validRows])[0]\n",
    "\n",
    "pearson_corr = reviews.iloc[:,2:].apply(lambda col : pearson(col, toyStoryCol))\n",
    "return_best_n(pearson_corr,4)[1:4]"
   ]
  },
  {
   "cell_type": "markdown",
   "metadata": {},
   "source": [
    "## Average Rating by Sex:\n",
    "\n",
    "We already see some trends by checking what womans and mens tend to watch (Pulp Fiction?). But as these are different movies, lets check which movies have the biggest difference on average ratings."
   ]
  },
  {
   "cell_type": "code",
   "execution_count": 10,
   "metadata": {
    "scrolled": true
   },
   "outputs": [
    {
     "name": "stdout",
     "output_type": "stream",
     "text": [
      "Average rating by woman\n"
     ]
    },
    {
     "data": {
      "text/html": [
       "<div>\n",
       "<style scoped>\n",
       "    .dataframe tbody tr th:only-of-type {\n",
       "        vertical-align: middle;\n",
       "    }\n",
       "\n",
       "    .dataframe tbody tr th {\n",
       "        vertical-align: top;\n",
       "    }\n",
       "\n",
       "    .dataframe thead th {\n",
       "        text-align: right;\n",
       "    }\n",
       "</style>\n",
       "<table border=\"1\" class=\"dataframe\">\n",
       "  <thead>\n",
       "    <tr style=\"text-align: right;\">\n",
       "      <th></th>\n",
       "      <th>statistic</th>\n",
       "    </tr>\n",
       "  </thead>\n",
       "  <tbody>\n",
       "    <tr>\n",
       "      <th>2396: Shakespeare in Love (1998)</th>\n",
       "      <td>4.25</td>\n",
       "    </tr>\n",
       "    <tr>\n",
       "      <th>296: Pulp Fiction (1994)</th>\n",
       "      <td>4.00</td>\n",
       "    </tr>\n",
       "    <tr>\n",
       "      <th>318: Shawshank Redemption, The (1994)</th>\n",
       "      <td>3.80</td>\n",
       "    </tr>\n",
       "  </tbody>\n",
       "</table>\n",
       "</div>"
      ],
      "text/plain": [
       "                                       statistic\n",
       "2396: Shakespeare in Love (1998)            4.25\n",
       "296: Pulp Fiction (1994)                    4.00\n",
       "318: Shawshank Redemption, The (1994)       3.80"
      ]
     },
     "execution_count": 10,
     "metadata": {},
     "output_type": "execute_result"
    }
   ],
   "source": [
    "means_w = reviews.loc[reviews['Gender (1 =F, 0=M)'] == 1].iloc[:,2:].apply(np.mean)\n",
    "print('Average rating by woman')\n",
    "return_best_n(means_w,3)"
   ]
  },
  {
   "cell_type": "code",
   "execution_count": 11,
   "metadata": {
    "scrolled": false
   },
   "outputs": [
    {
     "name": "stdout",
     "output_type": "stream",
     "text": [
      "Average rating by man\n"
     ]
    },
    {
     "data": {
      "text/html": [
       "<div>\n",
       "<style scoped>\n",
       "    .dataframe tbody tr th:only-of-type {\n",
       "        vertical-align: middle;\n",
       "    }\n",
       "\n",
       "    .dataframe tbody tr th {\n",
       "        vertical-align: top;\n",
       "    }\n",
       "\n",
       "    .dataframe thead th {\n",
       "        text-align: right;\n",
       "    }\n",
       "</style>\n",
       "<table border=\"1\" class=\"dataframe\">\n",
       "  <thead>\n",
       "    <tr style=\"text-align: right;\">\n",
       "      <th></th>\n",
       "      <th>statistic</th>\n",
       "    </tr>\n",
       "  </thead>\n",
       "  <tbody>\n",
       "    <tr>\n",
       "      <th>1198: Raiders of the Lost Ark (1981)</th>\n",
       "      <td>3.666667</td>\n",
       "    </tr>\n",
       "    <tr>\n",
       "      <th>527: Schindler's List (1993)</th>\n",
       "      <td>3.500000</td>\n",
       "    </tr>\n",
       "    <tr>\n",
       "      <th>1265: Groundhog Day (1993)</th>\n",
       "      <td>3.500000</td>\n",
       "    </tr>\n",
       "  </tbody>\n",
       "</table>\n",
       "</div>"
      ],
      "text/plain": [
       "                                      statistic\n",
       "1198: Raiders of the Lost Ark (1981)   3.666667\n",
       "527: Schindler's List (1993)           3.500000\n",
       "1265: Groundhog Day (1993)             3.500000"
      ]
     },
     "execution_count": 11,
     "metadata": {},
     "output_type": "execute_result"
    }
   ],
   "source": [
    "means_m = reviews.loc[reviews['Gender (1 =F, 0=M)'] == 0].iloc[:,2:].apply(np.mean)\n",
    "print('Average rating by man')\n",
    "return_best_n(means_m,3)"
   ]
  },
  {
   "cell_type": "markdown",
   "metadata": {},
   "source": [
    "### Difference in average rating"
   ]
  },
  {
   "cell_type": "code",
   "execution_count": 12,
   "metadata": {},
   "outputs": [
    {
     "name": "stdout",
     "output_type": "stream",
     "text": [
      "Biggest differences in average score Woman - Man\n"
     ]
    },
    {
     "data": {
      "text/plain": [
       "2396: Shakespeare in Love (1998)    2.107143\n",
       "34: Babe (1995)                     1.428571\n",
       "296: Pulp Fiction (1994)            1.375000\n",
       "Name: w-m, dtype: float64"
      ]
     },
     "execution_count": 12,
     "metadata": {},
     "output_type": "execute_result"
    }
   ],
   "source": [
    "means_w2 = return_best_n(means_w,len(means_w)).sort_index()\n",
    "means_m2 = return_best_n(means_m,len(means_m)).sort_index()\n",
    "\n",
    "means_w2['means_m'] = means_m2.statistic\n",
    "means_w2['w-m'] = means_w2['statistic'] - means_w2['means_m']\n",
    "print('Biggest differences in average score Woman - Man')\n",
    "means_w2.sort_values('w-m',ascending=False)['w-m'][0:3]"
   ]
  },
  {
   "cell_type": "code",
   "execution_count": 13,
   "metadata": {},
   "outputs": [
    {
     "name": "stdout",
     "output_type": "stream",
     "text": [
      "Biggest differences in average score Man - Woman\n"
     ]
    },
    {
     "data": {
      "text/plain": [
       "1198: Raiders of the Lost Ark (1981)    1.666667\n",
       "527: Schindler's List (1993)            1.000000\n",
       "2571: Matrix, The (1999)                0.742857\n",
       "Name: m-w, dtype: float64"
      ]
     },
     "execution_count": 13,
     "metadata": {},
     "output_type": "execute_result"
    }
   ],
   "source": [
    "means_w2['m-w'] = means_w2['means_m'] - means_w2['statistic']\n",
    "print('Biggest differences in average score Man - Woman')\n",
    "means_w2.sort_values('m-w',ascending=False)['m-w'][0:3]"
   ]
  },
  {
   "cell_type": "markdown",
   "metadata": {},
   "source": [
    "## % Good Rating by Sex (>= 4):\n",
    "\n"
   ]
  },
  {
   "cell_type": "code",
   "execution_count": 14,
   "metadata": {
    "scrolled": true
   },
   "outputs": [
    {
     "data": {
      "text/html": [
       "<div>\n",
       "<style scoped>\n",
       "    .dataframe tbody tr th:only-of-type {\n",
       "        vertical-align: middle;\n",
       "    }\n",
       "\n",
       "    .dataframe tbody tr th {\n",
       "        vertical-align: top;\n",
       "    }\n",
       "\n",
       "    .dataframe thead th {\n",
       "        text-align: right;\n",
       "    }\n",
       "</style>\n",
       "<table border=\"1\" class=\"dataframe\">\n",
       "  <thead>\n",
       "    <tr style=\"text-align: right;\">\n",
       "      <th></th>\n",
       "      <th>statistic</th>\n",
       "    </tr>\n",
       "  </thead>\n",
       "  <tbody>\n",
       "    <tr>\n",
       "      <th>318: Shawshank Redemption, The (1994)</th>\n",
       "      <td>0.80</td>\n",
       "    </tr>\n",
       "    <tr>\n",
       "      <th>2396: Shakespeare in Love (1998)</th>\n",
       "      <td>0.75</td>\n",
       "    </tr>\n",
       "    <tr>\n",
       "      <th>541: Blade Runner (1982)</th>\n",
       "      <td>0.75</td>\n",
       "    </tr>\n",
       "  </tbody>\n",
       "</table>\n",
       "</div>"
      ],
      "text/plain": [
       "                                       statistic\n",
       "318: Shawshank Redemption, The (1994)       0.80\n",
       "2396: Shakespeare in Love (1998)            0.75\n",
       "541: Blade Runner (1982)                    0.75"
      ]
     },
     "execution_count": 14,
     "metadata": {},
     "output_type": "execute_result"
    }
   ],
   "source": [
    "good_count_w = reviews[reviews['Gender (1 =F, 0=M)'] == 1].iloc[:,2:].apply(lambda col : np.sum(col >=  4)/np.sum(~np.isnan(col)))\n",
    "return_best_n(good_count_w,3)"
   ]
  },
  {
   "cell_type": "code",
   "execution_count": 15,
   "metadata": {},
   "outputs": [
    {
     "data": {
      "text/html": [
       "<div>\n",
       "<style scoped>\n",
       "    .dataframe tbody tr th:only-of-type {\n",
       "        vertical-align: middle;\n",
       "    }\n",
       "\n",
       "    .dataframe tbody tr th {\n",
       "        vertical-align: top;\n",
       "    }\n",
       "\n",
       "    .dataframe thead th {\n",
       "        text-align: right;\n",
       "    }\n",
       "</style>\n",
       "<table border=\"1\" class=\"dataframe\">\n",
       "  <thead>\n",
       "    <tr style=\"text-align: right;\">\n",
       "      <th></th>\n",
       "      <th>statistic</th>\n",
       "    </tr>\n",
       "  </thead>\n",
       "  <tbody>\n",
       "    <tr>\n",
       "      <th>318: Shawshank Redemption, The (1994)</th>\n",
       "      <td>0.600000</td>\n",
       "    </tr>\n",
       "    <tr>\n",
       "      <th>2571: Matrix, The (1999)</th>\n",
       "      <td>0.571429</td>\n",
       "    </tr>\n",
       "    <tr>\n",
       "      <th>593: Silence of the Lambs, The (1991)</th>\n",
       "      <td>0.555556</td>\n",
       "    </tr>\n",
       "  </tbody>\n",
       "</table>\n",
       "</div>"
      ],
      "text/plain": [
       "                                       statistic\n",
       "318: Shawshank Redemption, The (1994)   0.600000\n",
       "2571: Matrix, The (1999)                0.571429\n",
       "593: Silence of the Lambs, The (1991)   0.555556"
      ]
     },
     "execution_count": 15,
     "metadata": {},
     "output_type": "execute_result"
    }
   ],
   "source": [
    "good_count_m = reviews[reviews['Gender (1 =F, 0=M)'] == 0].iloc[:,2:].apply(lambda col : np.sum(col >=  4)/np.sum(~np.isnan(col)))\n",
    "return_best_n(good_count_m,3)"
   ]
  },
  {
   "cell_type": "markdown",
   "metadata": {},
   "source": [
    "# Discussions on Non-personalised Recommendations\n",
    "\n",
    "The most basic way to provide recommendations is a non-personalised one. Non-personalised recommendations don't take user's individual preferences nor context into consideration. \n",
    "Take for instance a newly create client at Amazon. He wouldn't have bough any item on the marketplace, so Amazon doesn't know what are the particular tastes of this new person, so the best way to start with any possible recommendation which the new customer would like are what other clients, regardless of any their individual tastes, are buying.  \n",
    "\n",
    "The recommendations are always based on a score, which can be calculated from basic metrics, such as:  \n",
    "\n",
    "* Explicit metrics: Evaluations given directly by the customer, *i.e.*, ratings, overall score, likes, etc.\n",
    "* Implicit metrics: Implict user behaviour, such as clicks, view, time spent, etc.  \n",
    "  \n",
    "Each of these types of metrics comes with pros and cons. **Explicit metrics** are good because we directly ask the user about what he thinks. However, some questions/problems arise:  \n",
    "\n",
    "* Question: Do de users know how to really reflect their tastes on a one number final metric?\n",
    "* Problem: Users ratings varies between each other. Some people rate a movie 5 stars when it was like he expected, others have this bar at 3 stars and only give a 5 stars rating when the movie surpass all his expectations.\n",
    "* Problem: Users ratings varies over time. If a user watch the same movie months after he watched for the first time, his evaluation can change.  \n",
    "\n",
    "\n",
    "When we are talking about **Implicit Metrics**, we assume that the user's actions speak more than its own words. Besides, collecting behaviour data is faster and without the human judgment that can affect the explicit metrics. But it also comes with some subtleties that we have to concern about:  \n",
    "\n",
    "* Dealing with a one number summary is easier to work than with multiple variables. If you're tracking multiple data, such as number of clicks, views and time, we have to come up with a way to average them, giving the proper weights, and this weights of course change between domains.  \n",
    "* Given facebook on the last days and the [disaster with Cambridge Analytics](https://www.cnbc.com/2018/04/10/facebook-cambridge-analytica-a-timeline-of-the-data-hijacking-scandal.html) there are lots of spaces to analyse where people might not be confortable to make it available to you.\n",
    "\n",
    "## Problems on the 5 star ratings\n",
    "\n",
    "<img src=http://charlieandcarlie.thecomicseries.com/images/comics/52/7be15a13b4fadfef7c56feaa0a1bdeeb1639287969.jpg>"
   ]
  },
  {
   "cell_type": "markdown",
   "metadata": {},
   "source": [
    "One of the main types of ratings used today is the 5 stars ratings. Used by companies such as Amazon, previously by Netflix and TripAdvisor, these companies use these evaluations in order to trace a profile between people and their products, using non-personalised and personalised recommendations.\n",
    "\n",
    "There is a lot of discussions on whether this type of evaluation if effective or not. Lots of notes and references written below were extracted from the first course on [Coursera's Recommender System Specialisation](https://www.coursera.org/learn/recommender-systems-introduction/home/info), more specifically on the last week of the first course, an interview with Martijn Willeman on [Psychology of Preference & Rating](https://www.coursera.org/learn/recommender-systems-introduction/lecture/ch4oV/psychology-of-preference-rating-interview-with-martijn-willemsen)\n",
    "\n",
    "### What is a Star Rating? \n",
    "\n",
    "That is the first question the interview began with. and \"**What does it mean to give something a 1 start? Or a 5 star?**\"\n",
    "\n",
    "Ranking by symbols date from the 19th century, where [Mariana Starke](https://en.wikipedia.org/wiki/Star_(classification)#History), in her 1820's guidebook, used exclamations points to rate works of art of specific value. My guess is, by some marketing play, people made an effort to translate the symbols to stars, an image that transmits more 'richness' by its shiny interpretation and its abstract relatioship to diamonds.  \n",
    "\n",
    "After the readoption of the 5 start ratings, popularised again by Netflix and Uber, lots of companies started to use this form of quality evaluation. The difficulties start when the scale is not properly set. Of course we have boundaries for it (5 points in a whole start review and 10 points in a half star scale review), but we aren't usually provided concrete references on which to base ourselves next time we rate something. This scenario brings instability to ratings distributions and it is made worse because of our human perception, that tends to review it based on instantenous (on the fly) evaluations.\n",
    "\n",
    "### Ratings on a different scales - contextual and temporal evaluation\n",
    "\n",
    "\n",
    "\n",
    "### Human's susceptibility to be influenciated\n",
    "\n",
    "\n",
    "### The harshness on 5 star ratings thresholds made by driver's companies\n",
    "\n"
   ]
  },
  {
   "cell_type": "code",
   "execution_count": null,
   "metadata": {},
   "outputs": [],
   "source": []
  }
 ],
 "metadata": {
  "kernelspec": {
   "display_name": "Python 3",
   "language": "python",
   "name": "python3"
  },
  "language_info": {
   "codemirror_mode": {
    "name": "ipython",
    "version": 3
   },
   "file_extension": ".py",
   "mimetype": "text/x-python",
   "name": "python",
   "nbconvert_exporter": "python",
   "pygments_lexer": "ipython3",
   "version": "3.6.4"
  },
  "toc": {
   "base_numbering": 1,
   "nav_menu": {},
   "number_sections": true,
   "sideBar": true,
   "skip_h1_title": false,
   "title_cell": "Table of Contents",
   "title_sidebar": "Contents",
   "toc_cell": false,
   "toc_position": {},
   "toc_section_display": true,
   "toc_window_display": false
  }
 },
 "nbformat": 4,
 "nbformat_minor": 2
}
