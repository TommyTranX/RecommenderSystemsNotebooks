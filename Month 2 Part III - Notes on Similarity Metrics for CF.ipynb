{
 "cells": [
  {
   "cell_type": "markdown",
   "metadata": {},
   "source": [
    "# Notes on the Pearson Correlation Coefficient\n",
    "\n",
    "The pearson correlation coefficient comes from the covariance factor between two variables normalised to have a bounded value between 0 and 1 and answers the following question: **How much linear correlated** the variables $x$ and $y$ are? As the values are normalised, its possible to have some guidelines for the coefficient value, such as:\n",
    "\n",
    "* Exactly 1. A perfect uphill (positive) linear relationship\n",
    "* 0.70. A strong uphill (positive) linear relationship\n",
    "* 0.50. A moderate uphill (positive) linear relationship\n",
    "* 0.30. A weak uphill (positive) linear relationship\n",
    "* 0 no **linear** relationship, neither positive nor negative\n",
    "* The same for negative values\n",
    "\n",
    "The value comes from dividing the covariance between variables $x$ and $y$ and dividing it by the product of $x$ and $y$ standard deviations:\n",
    "\n",
    "$$r_{x,y} = \\frac{S_{xy}}{S_{x}S_{y}}\\hspace{7.0cm}$$\n",
    "\n",
    "$$= \\frac{\\frac{\\sum_{i=1}^{n}(x_{i} - \\bar{x})(y_{i} - \\bar{y})}{n-1}}{\\frac{\\sqrt{\\sum_{i=1}^{n}(x_{i} - \\bar{x})^{2}}}{n-1}  \\frac{\\sqrt{\\sum_{i=1}^{n}(y_{i} - \\bar{y}})^{2}}{n-1}}\\hspace{4.5cm}(1)$$\n",
    "\n",
    "$$= \\frac{\\sum_{i=1}^{n}(x_{i} - \\bar{x})(y_{i} - \\bar{y})}  {\\sqrt{\\sum_{i=1}^{n}(x_{i} - \\bar{x})^{2}} \\sqrt{\\sum_{i=1}^{n}(y_{i} - \\bar{y})^{2}}}\\hspace{3cm}(2)$$\n",
    "\n",
    "Lets take a look first at equation (1):\n",
    "\n",
    "- Nominator: It basically extracts the following info:\n",
    "    - For a covariance value of $c$. In average, a dislocation in 1 unit from the mean value in $x$ represent a dislocation in $c^{2}$ units in $y$.\n",
    "    - Differently from the 1 variable standard deviation = square root of the variance, we don't take square roots from the covariance values, as it is still not easily understandable. For example, the covariance output would be in the unit $x^{2}y^{2}$ and taking the square root would still be on the unit $xy$. Instead of finding a a proper valid unit transformation, people tend to go directly to a unitless variable, the correlation.\n",
    "      \n",
    "      \n",
    "      \n",
    "- Denominator: Normalisation factor to transform the output between -1 and 1\n"
   ]
  },
  {
   "cell_type": "markdown",
   "metadata": {},
   "source": [
    "## Similarity between Pearson and Cosine Similarity"
   ]
  },
  {
   "cell_type": "code",
   "execution_count": null,
   "metadata": {},
   "outputs": [],
   "source": []
  }
 ],
 "metadata": {
  "kernelspec": {
   "display_name": "Python 3",
   "language": "python",
   "name": "python3"
  },
  "language_info": {
   "codemirror_mode": {
    "name": "ipython",
    "version": 3
   },
   "file_extension": ".py",
   "mimetype": "text/x-python",
   "name": "python",
   "nbconvert_exporter": "python",
   "pygments_lexer": "ipython3",
   "version": "3.6.4"
  },
  "toc": {
   "base_numbering": 1,
   "nav_menu": {},
   "number_sections": true,
   "sideBar": true,
   "skip_h1_title": false,
   "title_cell": "Table of Contents",
   "title_sidebar": "Contents",
   "toc_cell": false,
   "toc_position": {},
   "toc_section_display": true,
   "toc_window_display": false
  }
 },
 "nbformat": 4,
 "nbformat_minor": 2
}
